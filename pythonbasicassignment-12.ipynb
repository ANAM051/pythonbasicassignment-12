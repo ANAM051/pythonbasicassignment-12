{
 "cells": [
  {
   "cell_type": "code",
   "execution_count": null,
   "id": "b32e4d7c",
   "metadata": {},
   "outputs": [],
   "source": [
    "1. In what modes should the PdfFileReader() and PdfFileWriter() File objects will be opened?\n",
    "2. From a PdfFileReader object, how do you get a Page object for page 5?\n",
    "3. What PdfFileReader variable stores the number of pages in the PDF document?\n",
    "4. If a PdfFileReader object’s PDF is encrypted with the password swordfish, what must you do\n",
    "before you can obtain Page objects from it?\n",
    "5. What methods do you use to rotate a page?\n",
    "6. What is the difference between a Run object and a Paragraph object?\n",
    "7. How do you obtain a list of Paragraph objects for a Document object that’s stored in a variable\n",
    "named doc?\n",
    "8. What type of object has bold, underline, italic, strike, and outline variables?\n",
    "9. What is the difference between False, True, and None for the bold variable?\n",
    "10. How do you create a Document object for a new Word document?\n",
    "11. How do you add a paragraph with the text &#39;Hello, there!&#39; to a Document object stored in a\n",
    "variable named doc?\n",
    "12. What integers represent the levels of headings available in Word documents?"
   ]
  },
  {
   "cell_type": "code",
   "execution_count": null,
   "id": "269dfc2a",
   "metadata": {},
   "outputs": [],
   "source": [
    "1.For PdfFileReader() file objects should be opened in rb - read binary mode, Whereas for PdfFileWriter() file objects should \n",
    "be opened in wb - write binary mode."
   ]
  },
  {
   "cell_type": "code",
   "execution_count": null,
   "id": "d6113cd0",
   "metadata": {},
   "outputs": [],
   "source": [
    "2.pdfFileReader class provides a method called getPage(page_no) to get a page object."
   ]
  },
  {
   "cell_type": "markdown",
   "id": "8a9c1ace",
   "metadata": {},
   "source": [
    "3.getNumPages() method of PdfFileReader class stores the no pages in a PDF document."
   ]
  },
  {
   "cell_type": "markdown",
   "id": "9107b637",
   "metadata": {},
   "source": [
    "4.. First read the Pdf using the PdfFileReader Class. PdfFileReader class provides a attribute called isEncrypted to check \n",
    "whether a pdf is encrypted or not. the method returns true if a pdf is encrypted and vice versa.\n",
    "If pdf is encrypted use the decrypt() method provided by PdfFileReader class first then try to read the contents/pages of the\n",
    "pdf, else PyPDF2 will raise the following error PyPDF2.utils.PdfReadError: file has not been decrypted"
   ]
  },
  {
   "cell_type": "code",
   "execution_count": null,
   "id": "517b516d",
   "metadata": {},
   "outputs": [],
   "source": [
    "from pyPDF2 import pdfFileReader\n",
    "pdf_reader = pdfFileReader(file_path)\n",
    "if pdf_Reader.is encrypted\n",
    "    pdf_Reader.decrypt(\"swordfish\")\n",
    "for page in pdf_reader.pages:\n",
    "    print(page.extractText())"
   ]
  },
  {
   "cell_type": "code",
   "execution_count": null,
   "id": "fdbfec0e",
   "metadata": {},
   "outputs": [],
   "source": [
    "5.\n",
    "pyPDF provides two methods to rotate a page.1-rotateclockwise()-for clockwise rotation  2-rotate counter clockwise () -for \n",
    "Anticlockwise rotation."
   ]
  },
  {
   "cell_type": "code",
   "execution_count": null,
   "id": "69644e2c",
   "metadata": {},
   "outputs": [],
   "source": [
    "6\n",
    "The structure of a document is represented by three different data types in python-Docx. At the highest level, a Document object\n",
    "represents the entire document. The Document object contains a list of Paragraph objects for the paragraphs in the document."
   ]
  },
  {
   "cell_type": "code",
   "execution_count": null,
   "id": "b0dcb707",
   "metadata": {},
   "outputs": [],
   "source": [
    "7.\n",
    "from docx import Document\n",
    "doc = Document('sampletext'.doc)\n",
    "print(\"document.paragraph\")\n",
    "for parag9raph in doc.paragraphs:\n",
    "    print(\"paragraph.text\")\n",
    "    \n"
   ]
  },
  {
   "cell_type": "code",
   "execution_count": null,
   "id": "e2671d4a",
   "metadata": {},
   "outputs": [],
   "source": [
    "8.Run object has bold, underline, italic, strike, and outline variables. The text in a Word document is more than just a string.\n",
    "It has font, size, color, and other styling information associated with it"
   ]
  },
  {
   "cell_type": "code",
   "execution_count": null,
   "id": "657fcb03",
   "metadata": {},
   "outputs": [],
   "source": [
    "9.\n",
    "bold = True #font set to bold\n",
    "bold = False #font not set to bold\n",
    "bold = None #no font set"
   ]
  },
  {
   "cell_type": "code",
   "execution_count": null,
   "id": "24b89b01",
   "metadata": {},
   "outputs": [],
   "source": [
    "10.\n",
    "from docx import Document\n",
    "doc = Document\n",
    "doc.add_paragraph(\"Flipkart Big Billion days are here\")\n",
    "doc.save(flipkart.docx)"
   ]
  },
  {
   "cell_type": "code",
   "execution_count": null,
   "id": "58896fc7",
   "metadata": {},
   "outputs": [],
   "source": [
    "11.\n",
    "from docx import Document\n",
    "doc = Document\n",
    "doc.add_paragraph('hello,there')\n",
    "dac.save(hello.docx)\n"
   ]
  },
  {
   "cell_type": "markdown",
   "id": "4aa2237f",
   "metadata": {},
   "source": [
    "12. The levels for a heading in word documentcan be specified by using the level attribute inside the add_heading method.\n",
    "   there are total 4 levels starting from 0 to 4."
   ]
  }
 ],
 "metadata": {
  "kernelspec": {
   "display_name": "Python 3 (ipykernel)",
   "language": "python",
   "name": "python3"
  },
  "language_info": {
   "codemirror_mode": {
    "name": "ipython",
    "version": 3
   },
   "file_extension": ".py",
   "mimetype": "text/x-python",
   "name": "python",
   "nbconvert_exporter": "python",
   "pygments_lexer": "ipython3",
   "version": "3.9.12"
  }
 },
 "nbformat": 4,
 "nbformat_minor": 5
}
